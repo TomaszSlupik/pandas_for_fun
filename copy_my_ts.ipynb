{
 "cells": [
  {
   "cell_type": "code",
   "execution_count": 37,
   "metadata": {},
   "outputs": [],
   "source": [
    "from copy import copy, deepcopy"
   ]
  },
  {
   "cell_type": "markdown",
   "metadata": {},
   "source": [
    "SHALLOW i DEEP_COPY"
   ]
  },
  {
   "cell_type": "code",
   "execution_count": 38,
   "metadata": {},
   "outputs": [],
   "source": [
    "my_list = [[6, 7], 8, 9]\n",
    "shallow_copy_list = copy(my_list)\n",
    "\n",
    "deep_copy_list = deepcopy(my_list)"
   ]
  },
  {
   "cell_type": "code",
   "execution_count": 39,
   "metadata": {},
   "outputs": [
    {
     "name": "stdout",
     "output_type": "stream",
     "text": [
      "2232366776448\n",
      "2232368271360\n",
      "2232366820416\n"
     ]
    }
   ],
   "source": [
    "print(id(my_list))\n",
    "print(id(shallow_copy_list))\n",
    "print(id(deep_copy_list))"
   ]
  },
  {
   "cell_type": "code",
   "execution_count": 40,
   "metadata": {},
   "outputs": [],
   "source": [
    "my_list[0][0] = 10"
   ]
  },
  {
   "cell_type": "code",
   "execution_count": 41,
   "metadata": {},
   "outputs": [
    {
     "name": "stdout",
     "output_type": "stream",
     "text": [
      "[[10, 7], 8, 9]\n",
      "[[10, 7], 8, 9]\n",
      "[[6, 7], 8, 9]\n"
     ]
    }
   ],
   "source": [
    "print(my_list)\n",
    "print(shallow_copy_list)\n",
    "print(deep_copy_list)"
   ]
  },
  {
   "cell_type": "code",
   "execution_count": 42,
   "metadata": {},
   "outputs": [],
   "source": [
    "my_list[0] = 99"
   ]
  },
  {
   "cell_type": "code",
   "execution_count": 43,
   "metadata": {},
   "outputs": [
    {
     "name": "stdout",
     "output_type": "stream",
     "text": [
      "[99, 8, 9]\n",
      "[[10, 7], 8, 9]\n",
      "[[6, 7], 8, 9]\n"
     ]
    }
   ],
   "source": [
    "print(my_list)\n",
    "print(shallow_copy_list)\n",
    "print(deep_copy_list)"
   ]
  }
 ],
 "metadata": {
  "kernelspec": {
   "display_name": "Python 3",
   "language": "python",
   "name": "python3"
  },
  "language_info": {
   "codemirror_mode": {
    "name": "ipython",
    "version": 3
   },
   "file_extension": ".py",
   "mimetype": "text/x-python",
   "name": "python",
   "nbconvert_exporter": "python",
   "pygments_lexer": "ipython3",
   "version": "3.10.2"
  }
 },
 "nbformat": 4,
 "nbformat_minor": 2
}
