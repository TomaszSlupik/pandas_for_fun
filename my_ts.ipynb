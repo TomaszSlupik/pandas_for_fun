{
 "cells": [
  {
   "cell_type": "code",
   "execution_count": 15,
   "metadata": {},
   "outputs": [],
   "source": [
    "import pandas as pd"
   ]
  },
  {
   "cell_type": "code",
   "execution_count": 16,
   "metadata": {},
   "outputs": [
    {
     "name": "stdout",
     "output_type": "stream",
     "text": [
      "   name  salary\n",
      "0  John     100\n",
      "1  Adam     200\n",
      "2  Anna     300\n"
     ]
    }
   ],
   "source": [
    "# df\n",
    "df = pd.DataFrame({\"name\": [\"John\", \"Adam\", \"Anna\"], \n",
    "                   \"salary\": [100, 200, 300]\n",
    "                   })\n",
    "print(df)\n"
   ]
  },
  {
   "cell_type": "code",
   "execution_count": 17,
   "metadata": {},
   "outputs": [
    {
     "name": "stdout",
     "output_type": "stream",
     "text": [
      "    name   surname    city\n",
      "0   Anna  Kowalska  Warsaw\n",
      "1  Marek     Nowak  Kraków\n"
     ]
    }
   ],
   "source": [
    "df_city = pd.DataFrame({\n",
    "    \"name\": [\"Anna\", \"Marek\"],\n",
    "    \"surname\": [\"Kowalska\", \"Nowak\"], \n",
    "    \"city\": [\"Warsaw\", \"Kraków\"]\n",
    "}\n",
    ")\n",
    "print (df_city)"
   ]
  },
  {
   "cell_type": "code",
   "execution_count": 18,
   "metadata": {},
   "outputs": [
    {
     "name": "stdout",
     "output_type": "stream",
     "text": [
      "  name surname\n",
      "2  Jan   Nowak\n",
      "<class 'pandas.core.frame.DataFrame'>\n",
      "Index: 2 entries, 2 to 2\n",
      "Data columns (total 2 columns):\n",
      " #   Column   Non-Null Count  Dtype \n",
      "---  ------   --------------  ----- \n",
      " 0   name     2 non-null      object\n",
      " 1   surname  2 non-null      object\n",
      "dtypes: object(2)\n",
      "memory usage: 48.0+ bytes\n",
      "None\n"
     ]
    }
   ],
   "source": [
    "df_3 = pd.DataFrame(columns=[\"name\", \"surname\"], \n",
    "                    index=[2, 2], \n",
    "                    data=[\n",
    "                        [\"Jan\", \"Nowak\"],\n",
    "                        [\"Emil\", \"Nowak\"]\n",
    "                    ])\n",
    "\n",
    "print(df_3.head(1))\n",
    "print(df_3.info())"
   ]
  },
  {
   "cell_type": "code",
   "execution_count": 22,
   "metadata": {},
   "outputs": [
    {
     "name": "stdout",
     "output_type": "stream",
     "text": [
      "0    John\n",
      "1    Adam\n",
      "Name: Imiona, dtype: object\n"
     ]
    },
    {
     "data": {
      "text/plain": [
       "pandas.core.series.Series"
      ]
     },
     "execution_count": 22,
     "metadata": {},
     "output_type": "execute_result"
    }
   ],
   "source": [
    "# Series \n",
    "series = pd.Series(data=[\"John\", \"Adam\"], name=\"Imiona\")\n",
    "print(series)\n",
    "type(series)"
   ]
  },
  {
   "cell_type": "code",
   "execution_count": 27,
   "metadata": {},
   "outputs": [
    {
     "name": "stdout",
     "output_type": "stream",
     "text": [
      "{'name': {2: 'Emil'}, 'surname': {2: 'Nowak'}}\n",
      "['John', 'Adam']\n"
     ]
    }
   ],
   "source": [
    "# Konwersja\n",
    "df_3_dict = df_3.to_dict()\n",
    "print(df_3_dict)\n",
    "\n",
    "\n",
    "series_list = series.to_list()\n",
    "print(series_list)"
   ]
  },
  {
   "cell_type": "code",
   "execution_count": 28,
   "metadata": {},
   "outputs": [
    {
     "data": {
      "text/plain": [
       "0    Warsaw\n",
       "1    Kraków\n",
       "Name: city, dtype: object"
      ]
     },
     "execution_count": 28,
     "metadata": {},
     "output_type": "execute_result"
    }
   ],
   "source": [
    "# 1 kolumna\n",
    "df_city['city']"
   ]
  },
  {
   "cell_type": "code",
   "execution_count": 35,
   "metadata": {},
   "outputs": [
    {
     "name": "stdout",
     "output_type": "stream",
     "text": [
      "Unikalne: ['John' 'Kasia']\n"
     ]
    }
   ],
   "source": [
    "duplicates_df = pd.DataFrame(\n",
    "    columns=['Name', \"Age\"],\n",
    "    data=[\n",
    "        [\"John\", 22],\n",
    "        [\"John\", 21],\n",
    "        [\"Kasia\", 23]\n",
    "    ]\n",
    ")\n",
    "\n",
    "print(f\"Unikalne: {duplicates_df['Name'].unique()}\")\n",
    "\n"
   ]
  }
 ],
 "metadata": {
  "kernelspec": {
   "display_name": "Python 3",
   "language": "python",
   "name": "python3"
  },
  "language_info": {
   "codemirror_mode": {
    "name": "ipython",
    "version": 3
   },
   "file_extension": ".py",
   "mimetype": "text/x-python",
   "name": "python",
   "nbconvert_exporter": "python",
   "pygments_lexer": "ipython3",
   "version": "3.10.2"
  }
 },
 "nbformat": 4,
 "nbformat_minor": 2
}
